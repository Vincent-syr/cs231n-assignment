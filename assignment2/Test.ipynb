{
 "cells": [
  {
   "cell_type": "code",
   "execution_count": 1,
   "metadata": {},
   "outputs": [],
   "source": [
    "import numpy as np"
   ]
  },
  {
   "cell_type": "code",
   "execution_count": 7,
   "metadata": {
    "scrolled": true
   },
   "outputs": [
    {
     "data": {
      "text/plain": [
       "(5, 6)"
      ]
     },
     "execution_count": 7,
     "metadata": {},
     "output_type": "execute_result"
    }
   ],
   "source": [
    "x = np.zeros((3,4,5,6))\n",
    "x.shape[2:4]"
   ]
  },
  {
   "cell_type": "code",
   "execution_count": null,
   "metadata": {},
   "outputs": [],
   "source": [
    "max_mask = np.max(x_padded_mask, axis=(2,3))\n"
   ]
  },
  {
   "cell_type": "code",
   "execution_count": null,
   "metadata": {},
   "outputs": [],
   "source": [
    "(max_mask)[:,:,None,None]"
   ]
  },
  {
   "cell_type": "code",
   "execution_count": 13,
   "metadata": {
    "scrolled": true
   },
   "outputs": [
    {
     "data": {
      "text/plain": [
       "array([[[[0.61779884, 0.63425791],\n",
       "         [0.42972218, 0.81618822]],\n",
       "\n",
       "        [[0.790074  , 0.27194122],\n",
       "         [0.08070238, 0.91670389]]],\n",
       "\n",
       "\n",
       "       [[[0.68143231, 0.48619225],\n",
       "         [0.74890187, 0.96697366]],\n",
       "\n",
       "        [[0.89759311, 0.96352898],\n",
       "         [0.10782049, 0.60056176]]],\n",
       "\n",
       "\n",
       "       [[[0.52279914, 0.83436993],\n",
       "         [0.50177636, 0.02507364]],\n",
       "\n",
       "        [[0.83373116, 0.77201204],\n",
       "         [0.10574524, 0.59940581]]]])"
      ]
     },
     "execution_count": 13,
     "metadata": {},
     "output_type": "execute_result"
    }
   ],
   "source": [
    " \n",
    "x_padded_mask = np.random.rand(3, 2, 2, 2)\n",
    "x_padded_mask"
   ]
  },
  {
   "cell_type": "code",
   "execution_count": 14,
   "metadata": {},
   "outputs": [
    {
     "data": {
      "text/plain": [
       "array([[0.81618822, 0.91670389],\n",
       "       [0.96697366, 0.96352898],\n",
       "       [0.83436993, 0.83373116]])"
      ]
     },
     "execution_count": 14,
     "metadata": {},
     "output_type": "execute_result"
    }
   ],
   "source": [
    "max_mask = np.max(x_padded_mask, axis=(2,3))\n",
    "max_mask"
   ]
  }
 ],
 "metadata": {
  "kernelspec": {
   "display_name": "pytorch(py36)",
   "language": "python",
   "name": "pytorch"
  },
  "language_info": {
   "codemirror_mode": {
    "name": "ipython",
    "version": 3
   },
   "file_extension": ".py",
   "mimetype": "text/x-python",
   "name": "python",
   "nbconvert_exporter": "python",
   "pygments_lexer": "ipython3",
   "version": "3.6.8"
  }
 },
 "nbformat": 4,
 "nbformat_minor": 2
}
